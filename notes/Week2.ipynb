{
  "cells": [
    {
      "cell_type": "markdown",
      "metadata": {
        "colab_type": "text",
        "id": "view-in-github"
      },
      "source": [
        "<a href=\"https://colab.research.google.com/github/155TuT/cs231n/blob/main/notes/Week2.ipynb\" target=\"_parent\"><img src=\"https://colab.research.google.com/assets/colab-badge.svg\" alt=\"Open In Colab\"/></a>"
      ]
    },
    {
      "cell_type": "markdown",
      "metadata": {
        "id": "8qgBx2YvZvts"
      },
      "source": [
        "# cs231n第二周学习简报"
      ]
    },
    {
      "cell_type": "markdown",
      "metadata": {
        "id": "kCcatghxZzhf"
      },
      "source": [
        "本周网课推进进度有点慢，侧重点在推进实践：一方面因为小学期结课等琐事，另一方面是之前从来没写过python代码，语法和语言特性理解较少，写起来有点磕磕绊绊，不过还是完成了assignment1大部分的内容。~~唉黑魔法~~"
      ]
    },
    {
      "cell_type": "markdown",
      "metadata": {
        "id": "PC10G9mfbX7Y"
      },
      "source": [
        "## 学习内容"
      ]
    },
    {
      "cell_type": "markdown",
      "metadata": {
        "id": "_xbmyZ_vfnpx"
      },
      "source": [
        "本周继续推进的课程学习集中在assignment1的各个模块上，包括完成kNN的交叉验证、Softmax的前向与反向传播、2layernet的构建与调试，以及利用预训练的图像特征向量进行简单分类。\n",
        "\n",
        "相比第一周较偏理论的公式推导，本周的内容更偏实践，完全进入了“调包调参捉虫”的深水区。虽然没有特别多新的概念输入，但通过不断 debug 和调试训练流程，反而加深了对抽象概念的直觉理解。自己也慢慢习惯了把数学公式转成代码实现的思维方式。\n",
        "\n",
        "另外，对 python 本身的理解可能算不上较大突破，不过也算本次学习的必要一环。这周花了不少时间跳出 cpp 风格的思维框架，开始逐渐理解 fp 、广播机制和 numpy 的“矢量化计算”思想。在 cpp 习惯事事亲力亲为的循环后，接受 X[i] - self.X_train 自动扩展维度、实现并行计算，真的是一种从 imperative 到 declarative 的转变，非常深刻。\n",
        "\n",
        "Jupyter Notebook确实是好的，可惜学的太晚了。文内统一python环境还能直连本机是真的相见恨晚。\n",
        "\n",
        "本周的理论学习着重在加深理解反向传播上了，可惜还想继续推进到CNN，只能下周继续，~~唉链式法则~~"
      ]
    },
    {
      "cell_type": "markdown",
      "metadata": {
        "id": "e_uMk54pgRXD"
      },
      "source": [
        "## 遇到的问题"
      ]
    },
    {
      "cell_type": "markdown",
      "metadata": {
        "id": "V6zqr5ZEgTBd"
      },
      "source": [
        "本周遇到的问题着实不少，印象最深的有如下几个：\n",
        "\n",
        "- **广播机制（broadcasting）**：是这周遇到的最大语法难点之一。最开始对 numpy 中不同维度数组如何自动对齐、扩展维度缺乏直觉，经常写出 shape mismatch 的报错。\n",
        "\n",
        "- **数据 shape 不一致**：调 compute_distances_no_loops 和 predict_labels 的时候，经常出现维度不一致，推导中间矩阵形状花了很多时间。\n",
        "\n",
        "- **变量作用域**与**浅拷贝**：有几次因为没搞清楚 list/array 的引用，导致模型训练时改了不该改的变量。\n",
        "\n",
        "不过之前我们班的Shaun同学有用cpp写过一个简单的CNN，之前完全看不懂，现在再回去看感觉恍若隔世 ~~有种原始人造蒸汽机的感觉~~"
      ]
    },
    {
      "cell_type": "markdown",
      "metadata": {
        "id": "vkbMV067iM5g"
      },
      "source": [
        "## 小结"
      ]
    },
    {
      "cell_type": "markdown",
      "metadata": {
        "id": "RqAZo5triPJT"
      },
      "source": [
        "整体来看，这周理论推进较少，但工程实现能力提升很大，~~之前看同学调参抓破脑袋，终于轮到自己了~~。体验到了“理解一件事”和“把它实现出来”之间的距离。~~黑魔法有点难学了，本周大概是才学会火球术的级别（）~~"
      ]
    }
  ],
  "metadata": {
    "colab": {
      "authorship_tag": "ABX9TyPATTCnoBWUqz4w6IqqqkEl",
      "include_colab_link": true,
      "provenance": []
    },
    "kernelspec": {
      "display_name": "Python 3",
      "name": "python3"
    },
    "language_info": {
      "name": "python"
    }
  },
  "nbformat": 4,
  "nbformat_minor": 0
}
